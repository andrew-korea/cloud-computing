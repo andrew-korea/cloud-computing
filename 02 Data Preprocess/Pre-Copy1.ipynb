{
 "cells": [
  {
   "cell_type": "code",
   "execution_count": 158,
   "metadata": {},
   "outputs": [],
   "source": [
    "df = spark.read.csv('/Users/zhujinghong/Downloads/5003\\ project/data/BRvideos.csv', header=True)"
   ]
  },
  {
   "cell_type": "code",
   "execution_count": 159,
   "metadata": {},
   "outputs": [
    {
     "name": "stdout",
     "output_type": "stream",
     "text": [
      "root\n",
      " |-- video_id: string (nullable = true)\n",
      " |-- title: string (nullable = true)\n",
      " |-- publishedAt: string (nullable = true)\n",
      " |-- channelId: string (nullable = true)\n",
      " |-- channelTitle: string (nullable = true)\n",
      " |-- categoryId: string (nullable = true)\n",
      " |-- trending_date: string (nullable = true)\n",
      " |-- tags: string (nullable = true)\n",
      " |-- view_count: string (nullable = true)\n",
      " |-- likes: string (nullable = true)\n",
      " |-- dislikes: string (nullable = true)\n",
      " |-- comment_count: string (nullable = true)\n",
      " |-- thumbnail_link: string (nullable = true)\n",
      " |-- comments_disabled: string (nullable = true)\n",
      " |-- ratings_disabled: string (nullable = true)\n",
      " |-- description: string (nullable = true)\n",
      "\n"
     ]
    }
   ],
   "source": [
    "df.printSchema()"
   ]
  },
  {
   "cell_type": "code",
   "execution_count": null,
   "metadata": {},
   "outputs": [],
   "source": [
    "# df = df.select('trending_date','title','channel_title',\n",
    "#                'category_id', 'publish_time','tags','views',\n",
    "#                'likes','dislikes','comment_count')"
   ]
  },
  {
   "cell_type": "code",
   "execution_count": 160,
   "metadata": {},
   "outputs": [],
   "source": [
    "df = df.select('trending_date','title','channelTitle',\n",
    "               'categoryId', 'publishedAt','tags','view_count',\n",
    "               'likes','dislikes','comment_count')"
   ]
  },
  {
   "cell_type": "code",
   "execution_count": 163,
   "metadata": {},
   "outputs": [],
   "source": [
    "df=df.withColumnRenamed('channelTitle','channel_title')\n",
    "df=df.withColumnRenamed('categoryId','category_id') \n",
    "df=df.withColumnRenamed('publishedAt','publish_time')\n",
    "df=df.withColumnRenamed('view_count','views')"
   ]
  },
  {
   "cell_type": "code",
   "execution_count": 164,
   "metadata": {},
   "outputs": [
    {
     "name": "stdout",
     "output_type": "stream",
     "text": [
      "root\n",
      " |-- trending_date: string (nullable = true)\n",
      " |-- title: string (nullable = true)\n",
      " |-- channel_title: string (nullable = true)\n",
      " |-- category_id: string (nullable = true)\n",
      " |-- publish_time: string (nullable = true)\n",
      " |-- tags: string (nullable = true)\n",
      " |-- views: string (nullable = true)\n",
      " |-- likes: string (nullable = true)\n",
      " |-- dislikes: string (nullable = true)\n",
      " |-- comment_count: string (nullable = true)\n",
      "\n"
     ]
    }
   ],
   "source": [
    "df.printSchema()"
   ]
  },
  {
   "cell_type": "code",
   "execution_count": 165,
   "metadata": {},
   "outputs": [
    {
     "name": "stdout",
     "output_type": "stream",
     "text": [
      "+--------------------+\n",
      "|publish_time        |\n",
      "+--------------------+\n",
      "|2020-08-11T22:21:49Z|\n",
      "|2020-08-11T15:00:13Z|\n",
      "|2020-08-10T14:59:00Z|\n",
      "|2020-08-11T15:00:09Z|\n",
      "|2020-08-11T20:04:02Z|\n",
      "|2020-08-11T17:14:20Z|\n",
      "|2020-08-12T03:31:08Z|\n",
      "|2020-08-11T00:02:35Z|\n",
      "|2020-08-12T00:58:57Z|\n",
      "|2020-08-12T08:02:01Z|\n",
      "|2020-08-11T23:36:58Z|\n",
      "|null                |\n",
      "|null                |\n",
      "|null                |\n",
      "|null                |\n",
      "|null                |\n",
      "|null                |\n",
      "|null                |\n",
      "|null                |\n",
      "|null                |\n",
      "+--------------------+\n",
      "only showing top 20 rows\n",
      "\n"
     ]
    }
   ],
   "source": [
    "df.select('publish_time').show(truncate=False)"
   ]
  },
  {
   "cell_type": "code",
   "execution_count": 166,
   "metadata": {
    "scrolled": true
   },
   "outputs": [],
   "source": [
    "# from pyspark.sql.functions import to_date, to_timestamp\n",
    "# df.select(to_timestamp(df.publish_time, '%Y-%m-%dT%H:%M:%S.000Z').alias('dt')).show()"
   ]
  },
  {
   "cell_type": "code",
   "execution_count": 167,
   "metadata": {},
   "outputs": [
    {
     "data": {
      "text/plain": [
       "DataFrame[trending_date: string, title: string, channel_title: string, category_id: int, publish_time: string, tags: string, views: int, likes: int, dislikes: int, comment_count: int]"
      ]
     },
     "execution_count": 167,
     "metadata": {},
     "output_type": "execute_result"
    }
   ],
   "source": [
    "from pyspark.sql.functions import col , column\n",
    "cols=['category_id','views','likes','dislikes','comment_count']\n",
    "for col in cols:\n",
    "    df=df.withColumn('%s'%col ,df[col].cast('int'))\n",
    "    \n",
    "df"
   ]
  },
  {
   "cell_type": "code",
   "execution_count": 168,
   "metadata": {},
   "outputs": [
    {
     "name": "stdout",
     "output_type": "stream",
     "text": [
      "+-------+------------------+------------------+------------------+------------------+\n",
      "|summary|             views|             likes|          dislikes|     comment_count|\n",
      "+-------+------------------+------------------+------------------+------------------+\n",
      "|  count|             91793|             91793|             91793|             91785|\n",
      "|   mean|1698072.2923534475|125468.86622073578|2115.8671576263987|10693.848210491911|\n",
      "| stddev| 6243165.547248336|427844.25914236804|11422.625312238624|109384.25383141158|\n",
      "|    min|                 0|                 0|                 0|                 0|\n",
      "|    max|         278080610|          16213756|            848980|           6817450|\n",
      "+-------+------------------+------------------+------------------+------------------+\n",
      "\n"
     ]
    }
   ],
   "source": [
    "df.select('views','likes','dislikes','comment_count').describe().show()"
   ]
  },
  {
   "cell_type": "code",
   "execution_count": 169,
   "metadata": {},
   "outputs": [
    {
     "name": "stdout",
     "output_type": "stream",
     "text": [
      "+-------+--------------------+--------------------+-----------------------+------------------+--------------------+----------------------+\n",
      "|summary|       trending_date|               title|          channel_title|       category_id|        publish_time|                  tags|\n",
      "+-------+--------------------+--------------------+-----------------------+------------------+--------------------+----------------------+\n",
      "|  count|               92340|               95086|                  92859|             91793|               93624|                 92247|\n",
      "|   mean|                null|                null|                   null|18.424890786879175|                null|                  null|\n",
      "| stddev|                null|                null|                   null| 6.269286444084119|                null|                  null|\n",
      "|    min|      Amanda Orestes|  sou a Anny tenh...|            Agnes Nunes|                 1|                    |                 2004)|\n",
      "|    max|” and music video...|🧨 REJEIÇÃO? ENQU...|픽보이 - Peakboy Off...|                29|com um novo amor ...|현아|HyunA|ImNotCoo...|\n",
      "+-------+--------------------+--------------------+-----------------------+------------------+--------------------+----------------------+\n",
      "\n"
     ]
    }
   ],
   "source": [
    "df.select('trending_date','title','channel_title','category_id', 'publish_time','tags').describe().show()"
   ]
  },
  {
   "cell_type": "markdown",
   "metadata": {},
   "source": [
    "### remove null"
   ]
  },
  {
   "cell_type": "code",
   "execution_count": 170,
   "metadata": {},
   "outputs": [
    {
     "name": "stdout",
     "output_type": "stream",
     "text": [
      "0\n",
      "0\n",
      "0\n",
      "0\n",
      "0\n",
      "0\n",
      "0\n",
      "0\n",
      "0\n",
      "0\n"
     ]
    }
   ],
   "source": [
    "from pyspark.sql.functions import isnull\n",
    "# 查询某列为null的行数\n",
    "cols = ['trending_date','title','channel_title',\n",
    "        'category_id', 'publish_time','tags','views',\n",
    "        'likes','dislikes','comment_count']\n",
    "for col in cols:\n",
    "    print(df1.filter(isnull('%s'%col)).count())"
   ]
  },
  {
   "cell_type": "code",
   "execution_count": 171,
   "metadata": {},
   "outputs": [
    {
     "data": {
      "text/plain": [
       "91785"
      ]
     },
     "execution_count": 171,
     "metadata": {},
     "output_type": "execute_result"
    }
   ],
   "source": [
    "df.dropna(thresh=10).count()"
   ]
  },
  {
   "cell_type": "code",
   "execution_count": 172,
   "metadata": {},
   "outputs": [
    {
     "data": {
      "text/plain": [
       "91785"
      ]
     },
     "execution_count": 172,
     "metadata": {},
     "output_type": "execute_result"
    }
   ],
   "source": [
    "df1=df.dropna(thresh=10)\n",
    "df1.count()"
   ]
  },
  {
   "cell_type": "markdown",
   "metadata": {},
   "source": [
    "### remove duplicate"
   ]
  },
  {
   "cell_type": "code",
   "execution_count": 173,
   "metadata": {},
   "outputs": [
    {
     "data": {
      "text/plain": [
       "91696"
      ]
     },
     "execution_count": 173,
     "metadata": {},
     "output_type": "execute_result"
    }
   ],
   "source": [
    "# 1、删去完全重复的行\n",
    "df2 = df1.dropDuplicates() \n",
    "df2.count()"
   ]
  },
  {
   "cell_type": "code",
   "execution_count": 174,
   "metadata": {},
   "outputs": [
    {
     "data": {
      "text/plain": [
       "91680"
      ]
     },
     "execution_count": 174,
     "metadata": {},
     "output_type": "execute_result"
    }
   ],
   "source": [
    "# 2.删除某些关键字段值完全相同的记录，subset参数定义这些字段\n",
    "df2 = df2.dropDuplicates(subset = \n",
    "                         [c for c in df2.columns if c in ['channel_title','likes', 'dislikes','views','comment_count']])\n",
    "df2.count()"
   ]
  },
  {
   "cell_type": "markdown",
   "metadata": {},
   "source": [
    "### outlier"
   ]
  },
  {
   "cell_type": "code",
   "execution_count": 126,
   "metadata": {},
   "outputs": [
    {
     "data": {
      "text/plain": [
       "{'views': [-1737579.5, 3485976.5],\n",
       " 'likes': [-56319.0, 107129.0],\n",
       " 'dislikes': [-1931.5, 3712.5],\n",
       " 'comment_count': [-5664.0, 10944.0]}"
      ]
     },
     "execution_count": 126,
     "metadata": {},
     "output_type": "execute_result"
    }
   ],
   "source": [
    "cols = ['views', 'likes', 'dislikes','comment_count']\n",
    "bounds = {}\n",
    "\n",
    "for col in cols:\n",
    "    quantiles = df2.approxQuantile(\n",
    "        col, [0.25, 0.75], 0.05\n",
    "    )\n",
    "    \n",
    "    IQR = quantiles[1] - quantiles[0]\n",
    "    \n",
    "    bounds[col] = [\n",
    "        quantiles[0] - 1.5 * IQR,\n",
    "        quantiles[1] + 1.5 * IQR\n",
    "    ]\n",
    "bounds"
   ]
  },
  {
   "cell_type": "markdown",
   "metadata": {},
   "source": [
    "### json"
   ]
  },
  {
   "cell_type": "code",
   "execution_count": 175,
   "metadata": {},
   "outputs": [
    {
     "name": "stdout",
     "output_type": "stream",
     "text": [
      "+-----------+---------------------+\n",
      "|category_id|channel_title        |\n",
      "+-----------+---------------------+\n",
      "|26         |EntendendoiPhone     |\n",
      "|17         |CONMEBOL Sudamericana|\n",
      "|10         |MatheusKauanVEVO     |\n",
      "|17         |UFC Brasil           |\n",
      "|25         |TV BrasilGov         |\n",
      "|24         |Felipe Neto          |\n",
      "|17         |Jovem Pan Esportes   |\n",
      "|17         |ESPN Brasil          |\n",
      "|23         |Blogueirinha         |\n",
      "|23         |André Fittipaldi     |\n",
      "|10         |Josué Bom de Faixa   |\n",
      "|24         |MTV                  |\n",
      "|24         |Ramini Lima          |\n",
      "|24         |O Victor Magalhães   |\n",
      "|17         |TV Palmeiras/FAM     |\n",
      "|23         |5 Alguma Coisa       |\n",
      "|23         |Humor Multishow      |\n",
      "|24         |Rádio Kiss FM Oficial|\n",
      "|20         |Kamikat              |\n",
      "|10         |CNCOVEVO             |\n",
      "+-----------+---------------------+\n",
      "only showing top 20 rows\n",
      "\n"
     ]
    }
   ],
   "source": [
    "df2.select('category_id','channel_title').show(truncate=False)"
   ]
  },
  {
   "cell_type": "code",
   "execution_count": 176,
   "metadata": {},
   "outputs": [],
   "source": [
    "j = spark.read.json('/Users/zhujinghong/Downloads/5003\\ project/data/BR_category_id.json')"
   ]
  },
  {
   "cell_type": "code",
   "execution_count": 177,
   "metadata": {},
   "outputs": [
    {
     "name": "stdout",
     "output_type": "stream",
     "text": [
      "+---------------------+---+\n",
      "|title                |id |\n",
      "+---------------------+---+\n",
      "|Film & Animation     |1  |\n",
      "|Autos & Vehicles     |2  |\n",
      "|Music                |10 |\n",
      "|Pets & Animals       |15 |\n",
      "|Sports               |17 |\n",
      "|Short Movies         |18 |\n",
      "|Travel & Events      |19 |\n",
      "|Gaming               |20 |\n",
      "|Videoblogging        |21 |\n",
      "|People & Blogs       |22 |\n",
      "|Comedy               |23 |\n",
      "|Entertainment        |24 |\n",
      "|News & Politics      |25 |\n",
      "|Howto & Style        |26 |\n",
      "|Education            |27 |\n",
      "|Science & Technology |28 |\n",
      "|Nonprofits & Activism|29 |\n",
      "|Movies               |30 |\n",
      "|Anime/Animation      |31 |\n",
      "|Action/Adventure     |32 |\n",
      "+---------------------+---+\n",
      "only showing top 20 rows\n",
      "\n"
     ]
    }
   ],
   "source": [
    "from pyspark.sql import functions as F\n",
    "j = spark.read.option(\"multiLine\",\"true\").json('/Users/zhujinghong/Downloads/5003\\ project/data/US_category_id.json')\n",
    "\n",
    "# Explode Array to Structure\n",
    "explodej = j.withColumn('Exp_RESULTS',F.explode(F.col('items'))).drop('items')\n",
    "\n",
    "# Read location and name\n",
    "dfj = explodej.select(\"Exp_RESULTS.snippet.title\",'Exp_RESULTS.id')\n",
    "dfj.show(truncate=False)"
   ]
  },
  {
   "cell_type": "code",
   "execution_count": 178,
   "metadata": {},
   "outputs": [],
   "source": [
    "dfj=dfj.withColumnRenamed('id','category_id')\n",
    "dfj=dfj.withColumnRenamed('title','category_title')     # 将title重命名为category_title"
   ]
  },
  {
   "cell_type": "code",
   "execution_count": 179,
   "metadata": {},
   "outputs": [
    {
     "name": "stdout",
     "output_type": "stream",
     "text": [
      "+--------------------+-----------+\n",
      "|      category_title|category_id|\n",
      "+--------------------+-----------+\n",
      "|    Film & Animation|          1|\n",
      "|    Autos & Vehicles|          2|\n",
      "|               Music|         10|\n",
      "|      Pets & Animals|         15|\n",
      "|              Sports|         17|\n",
      "|        Short Movies|         18|\n",
      "|     Travel & Events|         19|\n",
      "|              Gaming|         20|\n",
      "|       Videoblogging|         21|\n",
      "|      People & Blogs|         22|\n",
      "|              Comedy|         23|\n",
      "|       Entertainment|         24|\n",
      "|     News & Politics|         25|\n",
      "|       Howto & Style|         26|\n",
      "|           Education|         27|\n",
      "|Science & Technology|         28|\n",
      "|Nonprofits & Acti...|         29|\n",
      "|              Movies|         30|\n",
      "|     Anime/Animation|         31|\n",
      "|    Action/Adventure|         32|\n",
      "+--------------------+-----------+\n",
      "only showing top 20 rows\n",
      "\n"
     ]
    }
   ],
   "source": [
    "dfj.show()"
   ]
  },
  {
   "cell_type": "code",
   "execution_count": 180,
   "metadata": {},
   "outputs": [],
   "source": [
    "df3=df2.join(dfj, 'category_id', \"left_outer\")"
   ]
  },
  {
   "cell_type": "code",
   "execution_count": 181,
   "metadata": {},
   "outputs": [
    {
     "name": "stdout",
     "output_type": "stream",
     "text": [
      "+-----------+--------------------+--------------------+--------------+\n",
      "|category_id|       channel_title|               title|category_title|\n",
      "+-----------+--------------------+--------------------+--------------+\n",
      "|         27|  1a série EM - CMSP|09/02/21 - 1ª sér...|     Education|\n",
      "|         24|         Babi Sabbag|COMO DESCOBRI MIN...| Entertainment|\n",
      "|         24|Família Jeito lok...|O ENCONTRO DA MAY...| Entertainment|\n",
      "|         23|      Mileninha Teen|MEU PAI ME TROLLO...|        Comedy|\n",
      "|         17|          NBA Brasil|Los Angeles Laker...|        Sports|\n",
      "|         17|          NBA Brasil|New York Knicks x...|        Sports|\n",
      "|         24|       Tata Gulusian|O NOME DA MINHA F...| Entertainment|\n",
      "|         10|Vitor Fernandes -...|             Aliança|         Music|\n",
      "|         24|     Teodoro Sampaio|Live da Casa dos ...| Entertainment|\n",
      "|         23|Humorista Thiago ...|FIZ TUDO COM ELA ...|        Comedy|\n",
      "|         20|         NFA CHANNEL|FREE FIRE - NFA L...|        Gaming|\n",
      "|         10|  Xand Avião - Topic|      Rave e Piseiro|         Music|\n",
      "|         20|      LoL eSports BR|Mundial 2020:  Fa...|        Gaming|\n",
      "|         22|        Mc Junior PK|AMOR QUE ISSO PAR...|People & Blogs|\n",
      "|         10|Gian e Giovani Of...|Live Gian & Giova...|         Music|\n",
      "|         17|            De Placa|MESSI x CR7 na CH...|        Sports|\n",
      "|         10|     Banda Os Atuais|Os Atuais - Em Ca...|         Music|\n",
      "|         10|        Nívea Soares|Adoração ao vivo ...|         Music|\n",
      "|         10|Maria Cecília e R...|Nossas Raízes - M...|         Music|\n",
      "|         10|          Xand Avião|Xand Avião - Forr...|         Music|\n",
      "+-----------+--------------------+--------------------+--------------+\n",
      "only showing top 20 rows\n",
      "\n"
     ]
    }
   ],
   "source": [
    "df3.select('category_id','channel_title','title','category_title').show()"
   ]
  },
  {
   "cell_type": "code",
   "execution_count": 182,
   "metadata": {},
   "outputs": [
    {
     "name": "stdout",
     "output_type": "stream",
     "text": [
      "root\n",
      " |-- category_id: integer (nullable = true)\n",
      " |-- trending_date: string (nullable = true)\n",
      " |-- title: string (nullable = true)\n",
      " |-- channel_title: string (nullable = true)\n",
      " |-- publish_time: string (nullable = true)\n",
      " |-- tags: string (nullable = true)\n",
      " |-- views: integer (nullable = true)\n",
      " |-- likes: integer (nullable = true)\n",
      " |-- dislikes: integer (nullable = true)\n",
      " |-- comment_count: integer (nullable = true)\n",
      " |-- category_title: string (nullable = true)\n",
      "\n"
     ]
    }
   ],
   "source": [
    "df3.printSchema()"
   ]
  },
  {
   "cell_type": "code",
   "execution_count": 183,
   "metadata": {},
   "outputs": [],
   "source": [
    "df3.coalesce(1).write.option(\"header\", \"true\").csv(\"BR.csv\")"
   ]
  },
  {
   "cell_type": "code",
   "execution_count": 184,
   "metadata": {},
   "outputs": [
    {
     "data": {
      "text/plain": [
       "0"
      ]
     },
     "execution_count": 184,
     "metadata": {},
     "output_type": "execute_result"
    }
   ],
   "source": [
    "df3.filter(isnull('likes')).count()"
   ]
  }
 ],
 "metadata": {
  "kernelspec": {
   "display_name": "Python 3",
   "language": "python",
   "name": "python3"
  },
  "language_info": {
   "codemirror_mode": {
    "name": "ipython",
    "version": 3
   },
   "file_extension": ".py",
   "mimetype": "text/x-python",
   "name": "python",
   "nbconvert_exporter": "python",
   "pygments_lexer": "ipython3",
   "version": "3.8.5"
  }
 },
 "nbformat": 4,
 "nbformat_minor": 4
}
